{
  "nbformat": 4,
  "nbformat_minor": 0,
  "metadata": {
    "colab": {
      "provenance": [],
      "authorship_tag": "ABX9TyOmedTDIbo8sEbGXUsqilJR",
      "include_colab_link": true
    },
    "kernelspec": {
      "name": "python3",
      "display_name": "Python 3"
    },
    "language_info": {
      "name": "python"
    }
  },
  "cells": [
    {
      "cell_type": "markdown",
      "metadata": {
        "id": "view-in-github",
        "colab_type": "text"
      },
      "source": [
        "<a href=\"https://colab.research.google.com/github/Notsam8/Notsam8/blob/main/Real_World_Projects.ipynb\" target=\"_parent\"><img src=\"https://colab.research.google.com/assets/colab-badge.svg\" alt=\"Open In Colab\"/></a>"
      ]
    },
    {
      "cell_type": "markdown",
      "source": [
        "ROCK PAPER SCISSORS GAME"
      ],
      "metadata": {
        "id": "lpj2oshzLz2J"
      }
    },
    {
      "cell_type": "code",
      "source": [
        "def draw(choice):\n",
        "  if choice == \"rock\":\n",
        "    return(\"\"\"\n",
        "    _______\n",
        "---|'   _____)\n",
        "      (______)\n",
        "      (______)\n",
        "      (_____)\n",
        "---,__(___)\n",
        "\"\"\")\n",
        "  elif choice == \"paper\":\n",
        "    return(\"\"\"\n",
        "    __________\n",
        "---|     ______)____\n",
        "             _______)\n",
        "             _______)\n",
        "             ______)\n",
        "---,_____________)\n",
        "\"\"\")\n",
        "  elif choice == 'scissors':\n",
        "    return(\"\"\"\n",
        "    ________\n",
        "---|   _____)___\n",
        "          ______)\n",
        "         ________)\n",
        "        (____)\n",
        "  ---,__(___)\n",
        "\"\"\")"
      ],
      "metadata": {
        "id": "kLL-UdGKuF_3"
      },
      "execution_count": null,
      "outputs": []
    },
    {
      "cell_type": "code",
      "execution_count": null,
      "metadata": {
        "collapsed": true,
        "id": "9nhmqAeagGr2"
      },
      "outputs": [],
      "source": [
        "import random,os\n",
        "\n",
        "\n",
        "choices = [\"rock\", \"paper\", \"scissors\"]\n",
        "\n",
        "def determine_winner(player, opp):\n",
        "  #Check if its a tie\n",
        "  if player == opp:\n",
        "    return(\"it's a tie game!\")\n",
        "  #Check if the user won\n",
        "  elif ((player == 'rock' and opp == 'scissors')or\n",
        "        (player == 'paper' and opp == 'rock')or\n",
        "        (player == 'scissors' and opp == 'paper') ):\n",
        "    return('You won, Congratulations!')\n",
        "  # If they didn't win, then we know the lost\n",
        "  else:\n",
        "    return('You lost, sorry')\n",
        "\n",
        "\n",
        "\n",
        "playing, invalid = True, False\n",
        "\n",
        "while playing:\n",
        "  #Ask the user to make selection\n",
        "  # Let them know if their previous choice was Invalid\n",
        "  if not invalid:\n",
        "    print(\"Choose rock, paper, or scissors\")\n",
        "  else:\n",
        "      print(\"Invalid input, please type rock, paper, or scissors\")\n",
        "      invalid = False\n",
        "  print(\" Or press q to quit\")\n",
        "  # Get the user input, make it lowercase and remove extra spaces\n",
        "  player_choice = input().lower().strip()\n",
        "  #Generate a random choice for the computer\n",
        "  opp_choice = random.choice(choices)\n",
        "\n",
        "  # Check and see if the user made a valid entry\n",
        "  if player_choice in choices:\n",
        "      print(\"You Chose:\"+ player_choice + draw(player_choice))\n",
        "      print(\"The Opponent Chose:\"+ opp_choice + draw(opp_choice))\n",
        "      print(determine_winner(player_choice, opp_choice))\n",
        "  # End the loop if the player wants to leave\n",
        "  elif player_choice == 'q':\n",
        "    playing = False\n",
        "\n",
        "\n",
        "  else:\n",
        "    invalid = True\n",
        "    replay = input(\"Wanna play again?\\nType\\\"yes\\\" to replay\\nEnter anything else to end the game\\n\").lower().strip()\n",
        "    print()\n",
        "    playing = replay == 'yes'\n",
        "\n",
        "\n",
        "  #Clear the sytem\n",
        "  os.system('cls' if os.name =='nt' else ' clear')\n",
        "\n",
        "print(\"Thanks For Playing\")"
      ]
    },
    {
      "cell_type": "markdown",
      "source": [
        " API WEATHER APP"
      ],
      "metadata": {
        "id": "6JlhbVT3MAMM"
      }
    },
    {
      "cell_type": "code",
      "source": [
        "import datetime as dt\n",
        "import requests\n",
        "\n",
        "BASE_URL = \"http://api.openweathermap.org/data/2.5/weather?\"\n",
        "API_KEY = '29525fc61b32c38cc6fd70dfdd805c8f'\n",
        "CITY = 'Oakville'\n",
        "\n",
        "def kelvin_to_celsius_farenheit(kelvin):\n",
        "  celsius = kelvin - 273.15\n",
        "  fahrenheit = celsius * (9/5) + 32\n",
        "  return celsius,fahrenheit\n",
        "\n",
        "\n",
        "url = BASE_URL + \"appid=\" + API_KEY + \"&q=\" + CITY\n",
        "\n",
        "response = requests.get(url).json()\n",
        "\n",
        "temp_kelvin = response['main']['temp']\n",
        "temp_celsius, temp_fahrenhiet = kelvin_to_celsius_farenheit(temp_kelvin)\n",
        "feels_like_kelvin = response['main']['feels_like']\n",
        "feels_like_celsius, feels_like_fahrenhiet = kelvin_to_celsius_farenheit(feels_like_kelvin)\n",
        "wind_speed = response['wind']['speed']\n",
        "humidity = response['main']['humidity']\n",
        "description = response['weather'][0]['description']\n",
        "sunrise_time = dt.datetime.utcfromtimestamp(response['sys']['sunrise'] + response['timezone'])\n",
        "sunset_time = dt.datetime.utcfromtimestamp(response['sys']['sunset'] + response['timezone'])\n",
        "\n",
        "print(f\"Temperature in {CITY} is: {temp_celsius:.2f}°C or {temp_fahrenhiet:.2f}°F\")\n",
        "print(f\"Temperature in {CITY} feels like: {feels_like_celsius:.2f}°C or {feels_like_fahrenhiet:.2f}°F\")\n",
        "print(f\"Humidity in {CITY}: {humidity}%\")\n",
        "print(f\"Wind Speed in {CITY}: {wind_speed}m/s\")\n",
        "print(f\"Sun Rises In {CITY} at {sunrise_time} local time. \")\n",
        "print(f\"Sun Sets In {CITY} at {sunset_time} local time. \")\n",
        "print(f\"General Weather In {CITY}: {description} \")"
      ],
      "metadata": {
        "id": "RaVp0j-2Mdi7"
      },
      "execution_count": null,
      "outputs": []
    },
    {
      "cell_type": "code",
      "source": [
        "import random\n",
        "import string\n",
        "import tkinter as tk\n",
        "from tkinter import messagebox\n",
        "\n",
        "# Function to generate a password\n",
        "def generate_password(length):\n",
        "    # Define what characters would be outputed\n",
        "    all_characters = string.ascii_letters + string.digits + string.punctuation\n",
        "    # Generate a random password of the given length\n",
        "    password = ''.join(random.choice(all_characters) for i in range(length))\n",
        "    return password\n",
        "\n",
        "# Function to save the password to a file\n",
        "def save_password_to_file(password, filename=\"passwords.txt\"):\n",
        "    try:\n",
        "        with open(filename, \"a\") as file:\n",
        "            file.write(f\"{password}\\n\")\n",
        "        messagebox.showinfo(\"Success\", f\"Password saved to {filename}\")\n",
        "    except Exception as e:\n",
        "        messagebox.showerror(\"Error\", f\"Failed to save password: {str(e)}\")\n",
        "\n",
        "# Function to generate and display the password\n",
        "def on_generate_button_click():\n",
        "    try:\n",
        "        length = int(entry_length.get())  # Get the password length from the input box\n",
        "        if length < 1:\n",
        "            messagebox.showerror(\"Invalid Input\", \"Password length must be at least 1.\")\n",
        "            return\n",
        "        password = generate_password(length)\n",
        "        entry_password.delete(0, tk.END)  # Clear previous password\n",
        "        entry_password.insert(0, password)  # Display the generated password\n",
        "    except ValueError:\n",
        "        messagebox.showerror(\"Invalid Input\", \"Please enter a valid number for the length.\")\n",
        "\n",
        "# Function to save the generated password\n",
        "def on_save_button_click():\n",
        "    password = entry_password.get()\n",
        "    if password:\n",
        "        save_password_to_file(password)\n",
        "    else:\n",
        "        messagebox.showerror(\"No Password\", \"Please generate a password first.\")\n",
        "\n",
        "# Create the mk.Tkain window\n",
        "window = tk.Tk()\n",
        "window.title(\"Password Generator\")\n",
        "\n",
        "# Create and place the widgets (labels, text boxes, buttons)\n",
        "label_length = tk.Label(window, text=\"Enter password length:\")\n",
        "label_length.pack(pady=5)\n",
        "\n",
        "entry_length = tk.Entry(window)\n",
        "entry_length.pack(pady=5)\n",
        "\n",
        "button_generate = tk.Button(window, text=\"Generate Password\", command=on_generate_button_click)\n",
        "button_generate.pack(pady=5)\n",
        "\n",
        "label_password = tk.Label(window, text=\"Generated Password:\")\n",
        "label_password.pack(pady=5)\n",
        "\n",
        "entry_password = tk.Entry(window, width=40)\n",
        "entry_password.pack(pady=5)\n",
        "\n",
        "button_save = tk.Button(window, text=\"Save Password\", command=on_save_button_click)\n",
        "button_save.pack(pady=5)\n",
        "\n",
        "# Run the Tkinter event loop\n",
        "window.mainloop()"
      ],
      "metadata": {
        "colab": {
          "base_uri": "https://localhost:8080/",
          "height": 357
        },
        "id": "cIlG5EhxL9T6",
        "outputId": "dcdbab26-40a5-4772-b73c-562728e7a88d"
      },
      "execution_count": 1,
      "outputs": [
        {
          "output_type": "error",
          "ename": "TclError",
          "evalue": "no display name and no $DISPLAY environment variable",
          "traceback": [
            "\u001b[0;31m---------------------------------------------------------------------------\u001b[0m",
            "\u001b[0;31mTclError\u001b[0m                                  Traceback (most recent call last)",
            "\u001b[0;32m<ipython-input-1-ada3381b7c30>\u001b[0m in \u001b[0;36m<cell line: 45>\u001b[0;34m()\u001b[0m\n\u001b[1;32m     43\u001b[0m \u001b[0;34m\u001b[0m\u001b[0m\n\u001b[1;32m     44\u001b[0m \u001b[0;31m# Create the mk.Tkain window\u001b[0m\u001b[0;34m\u001b[0m\u001b[0;34m\u001b[0m\u001b[0m\n\u001b[0;32m---> 45\u001b[0;31m \u001b[0mwindow\u001b[0m \u001b[0;34m=\u001b[0m \u001b[0mtk\u001b[0m\u001b[0;34m.\u001b[0m\u001b[0mTk\u001b[0m\u001b[0;34m(\u001b[0m\u001b[0;34m)\u001b[0m\u001b[0;34m\u001b[0m\u001b[0;34m\u001b[0m\u001b[0m\n\u001b[0m\u001b[1;32m     46\u001b[0m \u001b[0mwindow\u001b[0m\u001b[0;34m.\u001b[0m\u001b[0mtitle\u001b[0m\u001b[0;34m(\u001b[0m\u001b[0;34m\"Password Generator\"\u001b[0m\u001b[0;34m)\u001b[0m\u001b[0;34m\u001b[0m\u001b[0;34m\u001b[0m\u001b[0m\n\u001b[1;32m     47\u001b[0m \u001b[0;34m\u001b[0m\u001b[0m\n",
            "\u001b[0;32m/usr/lib/python3.10/tkinter/__init__.py\u001b[0m in \u001b[0;36m__init__\u001b[0;34m(self, screenName, baseName, className, useTk, sync, use)\u001b[0m\n\u001b[1;32m   2297\u001b[0m                 \u001b[0mbaseName\u001b[0m \u001b[0;34m=\u001b[0m \u001b[0mbaseName\u001b[0m \u001b[0;34m+\u001b[0m \u001b[0mext\u001b[0m\u001b[0;34m\u001b[0m\u001b[0;34m\u001b[0m\u001b[0m\n\u001b[1;32m   2298\u001b[0m         \u001b[0minteractive\u001b[0m \u001b[0;34m=\u001b[0m \u001b[0;32mFalse\u001b[0m\u001b[0;34m\u001b[0m\u001b[0;34m\u001b[0m\u001b[0m\n\u001b[0;32m-> 2299\u001b[0;31m         \u001b[0mself\u001b[0m\u001b[0;34m.\u001b[0m\u001b[0mtk\u001b[0m \u001b[0;34m=\u001b[0m \u001b[0m_tkinter\u001b[0m\u001b[0;34m.\u001b[0m\u001b[0mcreate\u001b[0m\u001b[0;34m(\u001b[0m\u001b[0mscreenName\u001b[0m\u001b[0;34m,\u001b[0m \u001b[0mbaseName\u001b[0m\u001b[0;34m,\u001b[0m \u001b[0mclassName\u001b[0m\u001b[0;34m,\u001b[0m \u001b[0minteractive\u001b[0m\u001b[0;34m,\u001b[0m \u001b[0mwantobjects\u001b[0m\u001b[0;34m,\u001b[0m \u001b[0museTk\u001b[0m\u001b[0;34m,\u001b[0m \u001b[0msync\u001b[0m\u001b[0;34m,\u001b[0m \u001b[0muse\u001b[0m\u001b[0;34m)\u001b[0m\u001b[0;34m\u001b[0m\u001b[0;34m\u001b[0m\u001b[0m\n\u001b[0m\u001b[1;32m   2300\u001b[0m         \u001b[0;32mif\u001b[0m \u001b[0museTk\u001b[0m\u001b[0;34m:\u001b[0m\u001b[0;34m\u001b[0m\u001b[0;34m\u001b[0m\u001b[0m\n\u001b[1;32m   2301\u001b[0m             \u001b[0mself\u001b[0m\u001b[0;34m.\u001b[0m\u001b[0m_loadtk\u001b[0m\u001b[0;34m(\u001b[0m\u001b[0;34m)\u001b[0m\u001b[0;34m\u001b[0m\u001b[0;34m\u001b[0m\u001b[0m\n",
            "\u001b[0;31mTclError\u001b[0m: no display name and no $DISPLAY environment variable"
          ]
        }
      ]
    }
  ]
}